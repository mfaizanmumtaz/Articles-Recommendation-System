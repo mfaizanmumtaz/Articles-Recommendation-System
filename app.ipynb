{
 "cells": [
  {
   "cell_type": "code",
   "execution_count": null,
   "metadata": {},
   "outputs": [],
   "source": [
    "from langchain_google_genai import  ChatGoogleGenerativeAI\n",
    "from langchain.prompts import ChatPromptTemplate\n",
    "from langchain.schema.output_parser import StrOutputParser\n",
    "import os\n",
    "topic = ['History','Space','AI']\n",
    "\n",
    "template = ChatPromptTemplate.from_template(\"\"\"You are helpfull assistant.Your task is to generate 30 different questions on that topic which is delimited with triple back ticks and sperate each question with newline.Please do your best it is very important to my career.please avoide to generate any extra text excluding question may be it's effect will be irreversible.\n",
    "Topic: ```{topic}```\"\"\")\n",
    "model = ChatGoogleGenerativeAI(model=\"gemini-1.5-flash\",google_api_key=os.getenv(\"google_api_key\")).with_fallbacks([ChatGoogleGenerativeAI(model='gemini-1.5-flash',google_api_key=os.getenv(\"dgoogle_api_key\"))])\n",
    "\n",
    "chain = template | model | StrOutputParser() | (lambda x:[q for q in x.split('\\n') if q])\n",
    "\n",
    "questions = chain.batch(topic)\n",
    "# questions = chain.invoke(topic[2])"
   ]
  },
  {
   "cell_type": "code",
   "execution_count": null,
   "metadata": {},
   "outputs": [],
   "source": [
    "questions[0]"
   ]
  },
  {
   "cell_type": "code",
   "execution_count": null,
   "metadata": {},
   "outputs": [],
   "source": [
    "def flatten(lists:list[list]):\n",
    "    questions = []\n",
    "    for sublist in lists:\n",
    "        questions.extend(sublist)\n",
    "\n",
    "    return questions\n",
    "\n",
    "_questions = flatten(questions)"
   ]
  },
  {
   "cell_type": "code",
   "execution_count": null,
   "metadata": {},
   "outputs": [],
   "source": [
    "template = ChatPromptTemplate.from_template(\"\"\"You are helpfull assistant your task is to generate a compherhensive article on that title (which is delimited with triple backtick) please just genrate an article do not add title in the start of aricle pleaes do your best it is very important to my career:\n",
    "Title: ```{title}```\"\"\")\n",
    "\n",
    "chain2 = template | model | StrOutputParser()\n",
    "\n",
    "articles = chain2.batch(_questions)"
   ]
  },
  {
   "cell_type": "code",
   "execution_count": null,
   "metadata": {},
   "outputs": [],
   "source": [
    "from langchain_core.documents import Document\n",
    "\n",
    "Docs = []\n",
    "for item in zip(articles,_questions):\n",
    "    Docs.append(Document(page_content=item[0],metadata={\"title\":item[1]}))\n",
    "\n",
    "print(Docs)"
   ]
  },
  {
   "cell_type": "code",
   "execution_count": null,
   "metadata": {},
   "outputs": [],
   "source": [
    "from langchain_huggingface import HuggingFaceEmbeddings\n",
    "embeddings = HuggingFaceEmbeddings()\n",
    "# len(embeddings.embed_query(\"HI\"))"
   ]
  },
  {
   "cell_type": "code",
   "execution_count": null,
   "metadata": {},
   "outputs": [],
   "source": [
    "from langchain_community.vectorstores import Chroma\n",
    "\n",
    "# vectorstore = Chroma.from_documents(documents=Docs,embedding=embeddings,persist_directory=\"chroma\")"
   ]
  },
  {
   "cell_type": "code",
   "execution_count": null,
   "metadata": {},
   "outputs": [],
   "source": [
    "vectorstore = Chroma(persist_directory=\"chroma\",embedding_function=embeddings).as_retriever(search_kwargs={\"k\":5})"
   ]
  },
  {
   "cell_type": "code",
   "execution_count": null,
   "metadata": {},
   "outputs": [],
   "source": [
    "# res = vectorstore.invoke(\"What are the major events in the history of Europe?\")\n",
    "res = vectorstore.invoke(\"what is space?\")\n",
    "for item in res:\n",
    "    print(item.page_content)\n",
    "    print(\"--\" * 60)"
   ]
  }
 ],
 "metadata": {
  "kernelspec": {
   "display_name": "Python 3",
   "language": "python",
   "name": "python3"
  },
  "language_info": {
   "codemirror_mode": {
    "name": "ipython",
    "version": 3
   },
   "file_extension": ".py",
   "mimetype": "text/x-python",
   "name": "python",
   "nbconvert_exporter": "python",
   "pygments_lexer": "ipython3",
   "version": "3.12.3"
  }
 },
 "nbformat": 4,
 "nbformat_minor": 2
}
